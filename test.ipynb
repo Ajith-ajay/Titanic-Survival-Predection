{
 "cells": [
  {
   "cell_type": "code",
   "execution_count": null,
   "metadata": {},
   "outputs": [
    {
     "name": "stdout",
     "output_type": "stream",
     "text": [
      "Survival Prediction: Not Survived\n"
     ]
    }
   ],
   "source": [
    "import pickle\n",
    "import numpy as np\n",
    "\n",
    "# Load the saved model\n",
    "model_path = \"./titanic_model.pkl\"\n",
    "with open(model_path, \"rb\") as f:\n",
    "    loaded_model = pickle.load(f)\n",
    "\n",
    "# (Pclass=3, Sex=0 (Female), Age=22, SibSp=1, Parch=0, Fare=7.25, Embarked=0)\n",
    "custom_input = np.array([[3, 0, 22, 1, 0, 7.25, 0]])  # Modify values as needed\n",
    "# Make prediction\n",
    "prediction = loaded_model.predict(custom_input)\n",
    "\n",
    "# Print result\n",
    "print(\"Survival Prediction:\", \"Survived\" if prediction[0] == 1 else \"Not Survived\")\n"
   ]
  },
  {
   "cell_type": "code",
   "execution_count": null,
   "metadata": {},
   "outputs": [],
   "source": []
  }
 ],
 "metadata": {
  "kernelspec": {
   "display_name": "Python 3",
   "language": "python",
   "name": "python3"
  },
  "language_info": {
   "codemirror_mode": {
    "name": "ipython",
    "version": 3
   },
   "file_extension": ".py",
   "mimetype": "text/x-python",
   "name": "python",
   "nbconvert_exporter": "python",
   "pygments_lexer": "ipython3",
   "version": "3.12.4"
  }
 },
 "nbformat": 4,
 "nbformat_minor": 2
}
